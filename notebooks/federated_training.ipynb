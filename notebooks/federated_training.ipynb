{
 "cells": [
  {
   "cell_type": "markdown",
   "id": "introduction",
   "metadata": {},
   "source": [
    "# Federated Learning with Data Valuation\n",
    "\n",
    "This notebook demonstrates how to set up and train an image classification model on the MNIST dataset using Federated Learning. It includes data valuation and incentive mechanisms."
   ]
  },
  {
   "cell_type": "code",
   "execution_count": null,
   "id": "imports",
   "metadata": {},
   "outputs": [],
   "source": [
    "import torch\n",
    "from torch import nn, optim\n",
    "from torchvision import datasets, transforms\n",
    "from torch.utils.data import DataLoader, random_split\n",
    "import syft as sy\n",
    "from src.models.model import ImageClassifier\n",
    "from src.utils.data_loader import get_mnist_datasets\n",
    "import yaml\n",
    "\n",
    "# Load configuration\n",
    "with open('../src/config/config.yaml', 'r') as f:\n",
    "    config = yaml.safe_load(f)"
   ]
  }
 ],
 "metadata": {
  "kernelspec": {
   "display_name": "Python 3",
   "language": "python",
   "name": "python3"
  }
 },
 "nbformat": 4,
 "nbformat_minor": 5
}
